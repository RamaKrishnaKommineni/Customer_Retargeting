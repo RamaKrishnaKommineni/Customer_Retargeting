{
 "cells": [
  {
   "cell_type": "markdown",
   "metadata": {
    "id": "2FlIQKuHsYFy"
   },
   "source": [
    "\n",
    "# Analytical Excersice\n",
    "\n",
    "\n",
    "*Rama Krishna*\n",
    "\n",
    "---\n",
    "\n",
    "**Objectives**\n",
    "\n",
    "To answer\n",
    "*\tWhat do the different distributions of requests by user tell us?\n",
    "\n",
    "*   Did the new creative increase conversions?\n",
    "*   Would retargeting have improved performance for this campaign?\n",
    "\n"
   ]
  },
  {
   "cell_type": "markdown",
   "metadata": {
    "id": "6DNmYbg7m5V0"
   },
   "source": [
    "## Setup\n",
    "\n",
    "First, let's get the data, import required modules."
   ]
  },
  {
   "cell_type": "code",
   "execution_count": 25,
   "metadata": {
    "colab": {
     "base_uri": "https://localhost:8080/",
     "height": 125
    },
    "executionInfo": {
     "elapsed": 20324,
     "status": "ok",
     "timestamp": 1573952457317,
     "user": {
      "displayName": "Rohith Nagabhyrava",
      "photoUrl": "",
      "userId": "01839053166955948528"
     },
     "user_tz": 300
    },
    "id": "i7nzXIZ-w_4l",
    "outputId": "5d53147d-c40b-415d-bf49-a77b6f742f95"
   },
   "outputs": [],
   "source": [
    "import os\n",
    "import numpy as np\n",
    "import pandas as pd\n",
    "import json\n",
    "import google\n",
    "from pandas.io.json import json_normalize\n",
    "from statsmodels.stats.proportion import proportions_ztest\n",
    "#from google.colab import drive\n",
    "import matplotlib.pyplot as plt\n",
    "import seaborn as sns\n",
    "import scipy.stats as stats\n",
    "import statsmodels.api as sm\n",
    "\n",
    "\n",
    "#setting the working directory\n",
    "#drive.mount('/content/drive')\n",
    "#os.chdir(\"/content/drive/My Drive/Valassis/\")\n"
   ]
  },
  {
   "cell_type": "markdown",
   "metadata": {
    "id": "f_jpqpyfzrqu"
   },
   "source": [
    "### Importing Data\n",
    "* **bid_requests** - Each row represents a bid request that we have seen for the targeted users. \n",
    "\n",
    "\n",
    "* **User_attributes** - Each row represents a of unique target user attributes"
   ]
  },
  {
   "cell_type": "code",
   "execution_count": 32,
   "metadata": {
    "colab": {
     "base_uri": "https://localhost:8080/",
     "height": 195
    },
    "executionInfo": {
     "elapsed": 22973,
     "status": "ok",
     "timestamp": 1573952459997,
     "user": {
      "displayName": "Rohith Nagabhyrava",
      "photoUrl": "",
      "userId": "01839053166955948528"
     },
     "user_tz": 300
    },
    "id": "41-PhusPwsj5",
    "outputId": "cf6c3d1f-d4d6-4491-e7dc-3bac24dcd8b4"
   },
   "outputs": [
    {
     "data": {
      "text/html": [
       "<div>\n",
       "<style scoped>\n",
       "    .dataframe tbody tr th:only-of-type {\n",
       "        vertical-align: middle;\n",
       "    }\n",
       "\n",
       "    .dataframe tbody tr th {\n",
       "        vertical-align: top;\n",
       "    }\n",
       "\n",
       "    .dataframe thead th {\n",
       "        text-align: right;\n",
       "    }\n",
       "</style>\n",
       "<table border=\"1\" class=\"dataframe\">\n",
       "  <thead>\n",
       "    <tr style=\"text-align: right;\">\n",
       "      <th></th>\n",
       "      <th>timestamp</th>\n",
       "      <th>user_id</th>\n",
       "      <th>bid</th>\n",
       "      <th>win</th>\n",
       "      <th>conversion</th>\n",
       "    </tr>\n",
       "  </thead>\n",
       "  <tbody>\n",
       "    <tr>\n",
       "      <th>0</th>\n",
       "      <td>2017-01-01 00:00:01</td>\n",
       "      <td>be7485be5b6eb3690efcbc9e95e8f15a</td>\n",
       "      <td>0</td>\n",
       "      <td>0</td>\n",
       "      <td>0</td>\n",
       "    </tr>\n",
       "    <tr>\n",
       "      <th>1</th>\n",
       "      <td>2017-01-01 00:00:02</td>\n",
       "      <td>26c5dca2512a4c7fe8810bd04191b1b3</td>\n",
       "      <td>0</td>\n",
       "      <td>0</td>\n",
       "      <td>0</td>\n",
       "    </tr>\n",
       "    <tr>\n",
       "      <th>2</th>\n",
       "      <td>2017-01-01 00:00:05</td>\n",
       "      <td>2121376a323507c01c5e92c39ae8ccd4</td>\n",
       "      <td>0</td>\n",
       "      <td>0</td>\n",
       "      <td>0</td>\n",
       "    </tr>\n",
       "    <tr>\n",
       "      <th>3</th>\n",
       "      <td>2017-01-01 00:00:12</td>\n",
       "      <td>fa6a0925d911185338b0acc93c66dc92</td>\n",
       "      <td>0</td>\n",
       "      <td>0</td>\n",
       "      <td>0</td>\n",
       "    </tr>\n",
       "    <tr>\n",
       "      <th>4</th>\n",
       "      <td>2017-01-01 00:00:13</td>\n",
       "      <td>4299f209da83da82b711f1d631cc607b</td>\n",
       "      <td>1</td>\n",
       "      <td>0</td>\n",
       "      <td>0</td>\n",
       "    </tr>\n",
       "  </tbody>\n",
       "</table>\n",
       "</div>"
      ],
      "text/plain": [
       "             timestamp                           user_id  bid  win  conversion\n",
       "0  2017-01-01 00:00:01  be7485be5b6eb3690efcbc9e95e8f15a    0    0           0\n",
       "1  2017-01-01 00:00:02  26c5dca2512a4c7fe8810bd04191b1b3    0    0           0\n",
       "2  2017-01-01 00:00:05  2121376a323507c01c5e92c39ae8ccd4    0    0           0\n",
       "3  2017-01-01 00:00:12  fa6a0925d911185338b0acc93c66dc92    0    0           0\n",
       "4  2017-01-01 00:00:13  4299f209da83da82b711f1d631cc607b    1    0           0"
      ]
     },
     "execution_count": 32,
     "metadata": {},
     "output_type": "execute_result"
    }
   ],
   "source": [
    "bid_df = pd.read_csv(\"C:\\\\Users\\\\kommi\\\\Downloads/bid_requests.csv\")\n",
    "user_df = pd.read_csv(\"C:\\\\Users\\\\kommi\\\\Downloads/user_attributes.csv\")\n",
    "bid_df.head()"
   ]
  },
  {
   "cell_type": "markdown",
   "metadata": {
    "id": "wCg5uzWj5bRv"
   },
   "source": [
    "In the user_df we see that column attributes contains a json format\n",
    "let's normalize to get columns\n",
    "* Normalizing json files\n",
    "\n"
   ]
  },
  {
   "cell_type": "code",
   "execution_count": 33,
   "metadata": {
    "colab": {
     "base_uri": "https://localhost:8080/",
     "height": 106
    },
    "executionInfo": {
     "elapsed": 1850,
     "status": "ok",
     "timestamp": 1573952464590,
     "user": {
      "displayName": "Rohith Nagabhyrava",
      "photoUrl": "",
      "userId": "01839053166955948528"
     },
     "user_tz": 300
    },
    "id": "8-B765M82fhv",
    "outputId": "c2749416-4bff-4fae-cc2e-b911151a139f"
   },
   "outputs": [
    {
     "data": {
      "text/html": [
       "<div>\n",
       "<style scoped>\n",
       "    .dataframe tbody tr th:only-of-type {\n",
       "        vertical-align: middle;\n",
       "    }\n",
       "\n",
       "    .dataframe tbody tr th {\n",
       "        vertical-align: top;\n",
       "    }\n",
       "\n",
       "    .dataframe thead th {\n",
       "        text-align: right;\n",
       "    }\n",
       "</style>\n",
       "<table border=\"1\" class=\"dataframe\">\n",
       "  <thead>\n",
       "    <tr style=\"text-align: right;\">\n",
       "      <th></th>\n",
       "      <th>user_id</th>\n",
       "      <th>age</th>\n",
       "      <th>gender</th>\n",
       "      <th>location</th>\n",
       "      <th>test</th>\n",
       "    </tr>\n",
       "  </thead>\n",
       "  <tbody>\n",
       "    <tr>\n",
       "      <th>0</th>\n",
       "      <td>00003e3b9e5336685200ae85d21b4f5e</td>\n",
       "      <td>33</td>\n",
       "      <td>F</td>\n",
       "      <td>FL</td>\n",
       "      <td>1</td>\n",
       "    </tr>\n",
       "    <tr>\n",
       "      <th>1</th>\n",
       "      <td>000053b1e684c9e7ea73727b2238ce18</td>\n",
       "      <td>26</td>\n",
       "      <td>M</td>\n",
       "      <td>AL</td>\n",
       "      <td>1</td>\n",
       "    </tr>\n",
       "  </tbody>\n",
       "</table>\n",
       "</div>"
      ],
      "text/plain": [
       "                            user_id  age gender location  test\n",
       "0  00003e3b9e5336685200ae85d21b4f5e   33      F       FL     1\n",
       "1  000053b1e684c9e7ea73727b2238ce18   26      M       AL     1"
      ]
     },
     "execution_count": 33,
     "metadata": {},
     "output_type": "execute_result"
    }
   ],
   "source": [
    "user_df = user_df.join(pd.json_normalize(user_df['attributes'].map(json.loads).tolist())).drop(['attributes'],axis=1)\n",
    "user_df.head(2)"
   ]
  },
  {
   "cell_type": "code",
   "execution_count": 38,
   "metadata": {
    "colab": {
     "base_uri": "https://localhost:8080/",
     "height": 195
    },
    "executionInfo": {
     "elapsed": 1500,
     "status": "ok",
     "timestamp": 1573952465368,
     "user": {
      "displayName": "Rohith Nagabhyrava",
      "photoUrl": "",
      "userId": "01839053166955948528"
     },
     "user_tz": 300
    },
    "id": "wCAtgp7959rL",
    "outputId": "ac593616-848e-444e-e716-442586a101c1"
   },
   "outputs": [
    {
     "data": {
      "text/html": [
       "<div>\n",
       "<style scoped>\n",
       "    .dataframe tbody tr th:only-of-type {\n",
       "        vertical-align: middle;\n",
       "    }\n",
       "\n",
       "    .dataframe tbody tr th {\n",
       "        vertical-align: top;\n",
       "    }\n",
       "\n",
       "    .dataframe thead th {\n",
       "        text-align: right;\n",
       "    }\n",
       "</style>\n",
       "<table border=\"1\" class=\"dataframe\">\n",
       "  <thead>\n",
       "    <tr style=\"text-align: right;\">\n",
       "      <th></th>\n",
       "      <th>timestamp</th>\n",
       "      <th>user_id</th>\n",
       "      <th>bid</th>\n",
       "      <th>win</th>\n",
       "      <th>conversion</th>\n",
       "      <th>age</th>\n",
       "      <th>gender</th>\n",
       "      <th>location</th>\n",
       "      <th>test</th>\n",
       "      <th>datetime</th>\n",
       "      <th>dow</th>\n",
       "      <th>hod</th>\n",
       "    </tr>\n",
       "  </thead>\n",
       "  <tbody>\n",
       "    <tr>\n",
       "      <th>0</th>\n",
       "      <td>2017-01-01 00:00:01</td>\n",
       "      <td>be7485be5b6eb3690efcbc9e95e8f15a</td>\n",
       "      <td>0</td>\n",
       "      <td>0</td>\n",
       "      <td>0</td>\n",
       "      <td>25</td>\n",
       "      <td>M</td>\n",
       "      <td>TN</td>\n",
       "      <td>1</td>\n",
       "      <td>2017-01-01 00:00:01</td>\n",
       "      <td>Sunday</td>\n",
       "      <td>0</td>\n",
       "    </tr>\n",
       "    <tr>\n",
       "      <th>1</th>\n",
       "      <td>2017-01-01 15:39:10</td>\n",
       "      <td>be7485be5b6eb3690efcbc9e95e8f15a</td>\n",
       "      <td>0</td>\n",
       "      <td>0</td>\n",
       "      <td>0</td>\n",
       "      <td>25</td>\n",
       "      <td>M</td>\n",
       "      <td>TN</td>\n",
       "      <td>1</td>\n",
       "      <td>2017-01-01 15:39:10</td>\n",
       "      <td>Sunday</td>\n",
       "      <td>15</td>\n",
       "    </tr>\n",
       "    <tr>\n",
       "      <th>2</th>\n",
       "      <td>2017-01-01 18:44:07</td>\n",
       "      <td>be7485be5b6eb3690efcbc9e95e8f15a</td>\n",
       "      <td>0</td>\n",
       "      <td>0</td>\n",
       "      <td>0</td>\n",
       "      <td>25</td>\n",
       "      <td>M</td>\n",
       "      <td>TN</td>\n",
       "      <td>1</td>\n",
       "      <td>2017-01-01 18:44:07</td>\n",
       "      <td>Sunday</td>\n",
       "      <td>18</td>\n",
       "    </tr>\n",
       "    <tr>\n",
       "      <th>3</th>\n",
       "      <td>2017-01-02 08:55:04</td>\n",
       "      <td>be7485be5b6eb3690efcbc9e95e8f15a</td>\n",
       "      <td>1</td>\n",
       "      <td>1</td>\n",
       "      <td>0</td>\n",
       "      <td>25</td>\n",
       "      <td>M</td>\n",
       "      <td>TN</td>\n",
       "      <td>1</td>\n",
       "      <td>2017-01-02 08:55:04</td>\n",
       "      <td>Monday</td>\n",
       "      <td>8</td>\n",
       "    </tr>\n",
       "    <tr>\n",
       "      <th>4</th>\n",
       "      <td>2017-01-02 13:10:56</td>\n",
       "      <td>be7485be5b6eb3690efcbc9e95e8f15a</td>\n",
       "      <td>0</td>\n",
       "      <td>0</td>\n",
       "      <td>0</td>\n",
       "      <td>25</td>\n",
       "      <td>M</td>\n",
       "      <td>TN</td>\n",
       "      <td>1</td>\n",
       "      <td>2017-01-02 13:10:56</td>\n",
       "      <td>Monday</td>\n",
       "      <td>13</td>\n",
       "    </tr>\n",
       "  </tbody>\n",
       "</table>\n",
       "</div>"
      ],
      "text/plain": [
       "             timestamp                           user_id  bid  win  \\\n",
       "0  2017-01-01 00:00:01  be7485be5b6eb3690efcbc9e95e8f15a    0    0   \n",
       "1  2017-01-01 15:39:10  be7485be5b6eb3690efcbc9e95e8f15a    0    0   \n",
       "2  2017-01-01 18:44:07  be7485be5b6eb3690efcbc9e95e8f15a    0    0   \n",
       "3  2017-01-02 08:55:04  be7485be5b6eb3690efcbc9e95e8f15a    1    1   \n",
       "4  2017-01-02 13:10:56  be7485be5b6eb3690efcbc9e95e8f15a    0    0   \n",
       "\n",
       "   conversion  age gender location  test            datetime     dow  hod  \n",
       "0           0   25      M       TN     1 2017-01-01 00:00:01  Sunday    0  \n",
       "1           0   25      M       TN     1 2017-01-01 15:39:10  Sunday   15  \n",
       "2           0   25      M       TN     1 2017-01-01 18:44:07  Sunday   18  \n",
       "3           0   25      M       TN     1 2017-01-02 08:55:04  Monday    8  \n",
       "4           0   25      M       TN     1 2017-01-02 13:10:56  Monday   13  "
      ]
     },
     "execution_count": 38,
     "metadata": {},
     "output_type": "execute_result"
    }
   ],
   "source": [
    "bid_user=pd.merge(bid_df, user_df, on='user_id', how='inner')\n",
    "bid_user['datetime']=pd.to_datetime(bid_user['timestamp'])\n",
    "bid_user['dow']=bid_user['datetime'].dt.day_name()\n",
    "bid_user['hod']=bid_user['datetime'].dt.hour\n",
    "bid_user.head()"
   ]
  },
  {
   "cell_type": "code",
   "execution_count": 39,
   "metadata": {
    "colab": {
     "base_uri": "https://localhost:8080/",
     "height": 195
    },
    "executionInfo": {
     "elapsed": 700,
     "status": "ok",
     "timestamp": 1573952466525,
     "user": {
      "displayName": "Rohith Nagabhyrava",
      "photoUrl": "",
      "userId": "01839053166955948528"
     },
     "user_tz": 300
    },
    "id": "HAeC5tPGiVlV",
    "outputId": "66a5a07d-9328-4555-e4c0-4b2685d1e766"
   },
   "outputs": [
    {
     "data": {
      "text/html": [
       "<div>\n",
       "<style scoped>\n",
       "    .dataframe tbody tr th:only-of-type {\n",
       "        vertical-align: middle;\n",
       "    }\n",
       "\n",
       "    .dataframe tbody tr th {\n",
       "        vertical-align: top;\n",
       "    }\n",
       "\n",
       "    .dataframe thead th {\n",
       "        text-align: right;\n",
       "    }\n",
       "</style>\n",
       "<table border=\"1\" class=\"dataframe\">\n",
       "  <thead>\n",
       "    <tr style=\"text-align: right;\">\n",
       "      <th></th>\n",
       "      <th></th>\n",
       "      <th>0</th>\n",
       "    </tr>\n",
       "    <tr>\n",
       "      <th>test</th>\n",
       "      <th>conversion</th>\n",
       "      <th></th>\n",
       "    </tr>\n",
       "  </thead>\n",
       "  <tbody>\n",
       "    <tr>\n",
       "      <th rowspan=\"2\" valign=\"top\">0</th>\n",
       "      <th>0</th>\n",
       "      <td>62841</td>\n",
       "    </tr>\n",
       "    <tr>\n",
       "      <th>1</th>\n",
       "      <td>2723</td>\n",
       "    </tr>\n",
       "    <tr>\n",
       "      <th rowspan=\"2\" valign=\"top\">1</th>\n",
       "      <th>0</th>\n",
       "      <td>81203</td>\n",
       "    </tr>\n",
       "    <tr>\n",
       "      <th>1</th>\n",
       "      <td>3392</td>\n",
       "    </tr>\n",
       "  </tbody>\n",
       "</table>\n",
       "</div>"
      ],
      "text/plain": [
       "                     0\n",
       "test conversion       \n",
       "0    0           62841\n",
       "     1            2723\n",
       "1    0           81203\n",
       "     1            3392"
      ]
     },
     "execution_count": 39,
     "metadata": {},
     "output_type": "execute_result"
    }
   ],
   "source": [
    "# filtering requests based on win\n",
    "bid_user_conv = bid_user[bid_user['win']==1]\n",
    "pd.DataFrame(bid_user_conv.groupby(['test','conversion']).size())"
   ]
  },
  {
   "cell_type": "markdown",
   "metadata": {
    "id": "5GYE0ea2wrWu"
   },
   "source": [
    "## What do the different distributions of requests by user tell us?"
   ]
  },
  {
   "cell_type": "markdown",
   "metadata": {
    "id": "YSJ2SHlAwuGg"
   },
   "source": [
    "Wins vs users"
   ]
  },
  {
   "cell_type": "code",
   "execution_count": 41,
   "metadata": {
    "id": "knj_T6f5wunc"
   },
   "outputs": [],
   "source": [
    "df0 = bid_user[bid_user['test']==0]\n",
    "df1 = bid_user[bid_user['test']==1]"
   ]
  },
  {
   "cell_type": "markdown",
   "metadata": {
    "id": "PifCdDZYN5u5"
   },
   "source": [
    "#### Tri plot helper"
   ]
  },
  {
   "cell_type": "code",
   "execution_count": 42,
   "metadata": {
    "id": "StNhUMPI6Ov9"
   },
   "outputs": [],
   "source": [
    "def tri_plot(variable,df0=df0,df1=df1):\n",
    "  \"\"\"\n",
    "  Generates 3 plots(bid,win,conversion) by given variable\n",
    "  \"\"\"\n",
    "  fig = plt.figure(figsize=(21,7))\n",
    "  ax = fig.add_subplot(131)\n",
    "  pd.value_counts(df0[variable],normalize=True).sort_index().plot(kind=\"bar\",color='red', ax=ax, position=0, width=0.25,alpha=0.6)\n",
    "  pd.value_counts(df1[variable],normalize=True).sort_index().plot(kind=\"bar\",color='blue', ax=ax, position=1, width=0.25,alpha=0.6)\n",
    "  ax.axhline(pd.value_counts(bid_user[variable],normalize=True).mean(), color='green', linewidth=2)\n",
    "  ax.set_title(variable+ ' vs bid proportions')\n",
    "  ax.set_xlabel(variable)\n",
    "  ax.set_ylabel('bid proportion')\n",
    "  ax.grid(axis='y')\n",
    "  ax.legend(['avg bid proportion','t0','t1'],loc='lower left')\n",
    "\n",
    "\n",
    "  ax1 = fig.add_subplot(132)\n",
    "  pd.value_counts(df0[df0['win']==1][variable],normalize=True).sort_index().plot(kind=\"bar\",color='red', ax=ax1, position=0, width=0.25,alpha=0.6)\n",
    "  pd.value_counts(df1[df1['win']==1][variable],normalize=True).sort_index().plot(kind=\"bar\",color='blue', ax=ax1, position=1, width=0.25,alpha=0.6)\n",
    "  ax1.axhline(pd.value_counts(bid_user[bid_user['win']==1][variable],normalize=True).mean(), color='green', linewidth=2)\n",
    "  ax1.set_title(variable +' vs win proportions')\n",
    "  ax1.set_xlabel(variable)\n",
    "  ax1.set_ylabel('win proportion')\n",
    "  ax1.grid(axis='y')\n",
    "  ax1.legend(['avg win proportion','t0','t1'],loc='lower left')\n",
    "\n",
    "  ax2 = fig.add_subplot(133)\n",
    "  pd.value_counts(df0[df0['conversion']==1][variable],normalize=True).sort_index().plot(kind=\"bar\",color='red', ax=ax2, position=0, width=0.25,alpha=0.6)\n",
    "  pd.value_counts(df1[df1['conversion']==1][variable],normalize=True).sort_index().plot(kind=\"bar\",color='blue', ax=ax2, position=1, width=0.25,alpha=0.6)\n",
    "  ax2.axhline(pd.value_counts(bid_user_conv[bid_user_conv['conversion']==1][variable],normalize=True).mean(), color='green', linewidth=2)\n",
    "  ax2.set_title(variable + ' vs conversion proportions')\n",
    "  ax2.set_xlabel(variable)\n",
    "  ax2.set_ylabel('conversion proportion')\n",
    "  ax2.grid(axis='y')\n",
    "  ax2.legend(['avg conversion proportion','t0','t1'],loc='lower left')\n",
    "  plt.show()\n",
    "\n",
    "def conversion(variable,df0=df0,df1=df1):\n",
    "  \"\"\" Takes a column and returns \n",
    "  conversion rate by column variables\"\"\"\n",
    "\n",
    "  x = (df0[df0['win']==1].groupby(['conversion',variable])[variable].size()).unstack()\n",
    "  y = (df1[df1['win']==1].groupby(['conversion',variable])[variable].size()).unstack()\n",
    "\n",
    "  x.loc['conversion rate test_0'] = x.loc[1]/x.loc[0]\n",
    "  y.loc['conversion rate test_1'] = y.loc[1]/y.loc[0]\n",
    "  res = pd.concat([x,y]).drop([0,1],axis=0)\n",
    "  res.loc['difference'] = y.loc['conversion rate test_1'] - x.loc['conversion rate test_0']\n",
    "  res.loc['Percent_diff'] = ((y.loc['conversion rate test_1'] - x.loc['conversion rate test_0'])/x.loc['conversion rate test_0'])*100\n",
    "\n",
    "  return res\n"
   ]
  },
  {
   "cell_type": "markdown",
   "metadata": {
    "id": "X10x2jq9QhLv"
   },
   "source": [
    "### Gender"
   ]
  },
  {
   "cell_type": "code",
   "execution_count": 43,
   "metadata": {
    "colab": {
     "base_uri": "https://localhost:8080/",
     "height": 635
    },
    "executionInfo": {
     "elapsed": 1381,
     "status": "ok",
     "timestamp": 1573952470574,
     "user": {
      "displayName": "Rohith Nagabhyrava",
      "photoUrl": "",
      "userId": "01839053166955948528"
     },
     "user_tz": 300
    },
    "id": "_LXIUhN0QWTM",
    "outputId": "5a03432b-3ba5-4b48-eb7a-87b9fd923945"
   },
   "outputs": [
    {
     "data": {
      "image/png": "[encoded data removed]",
      "text/plain": [
       "<Figure size 1512x504 with 3 Axes>"
      ]
     },
     "metadata": {},
     "output_type": "display_data"
    },
    {
     "data": {
      "text/html": [
       "<div>\n",
       "<style scoped>\n",
       "    .dataframe tbody tr th:only-of-type {\n",
       "        vertical-align: middle;\n",
       "    }\n",
       "\n",
       "    .dataframe tbody tr th {\n",
       "        vertical-align: top;\n",
       "    }\n",
       "\n",
       "    .dataframe thead th {\n",
       "        text-align: right;\n",
       "    }\n",
       "</style>\n",
       "<table border=\"1\" class=\"dataframe\">\n",
       "  <thead>\n",
       "    <tr style=\"text-align: right;\">\n",
       "      <th>gender</th>\n",
       "      <th>F</th>\n",
       "      <th>M</th>\n",
       "    </tr>\n",
       "    <tr>\n",
       "      <th>conversion</th>\n",
       "      <th></th>\n",
       "      <th></th>\n",
       "    </tr>\n",
       "  </thead>\n",
       "  <tbody>\n",
       "    <tr>\n",
       "      <th>conversion rate test_0</th>\n",
       "      <td>0.044104</td>\n",
       "      <td>0.042186</td>\n",
       "    </tr>\n",
       "    <tr>\n",
       "      <th>conversion rate test_1</th>\n",
       "      <td>0.041020</td>\n",
       "      <td>0.042906</td>\n",
       "    </tr>\n",
       "    <tr>\n",
       "      <th>difference</th>\n",
       "      <td>-0.003084</td>\n",
       "      <td>0.000721</td>\n",
       "    </tr>\n",
       "    <tr>\n",
       "      <th>Percent_diff</th>\n",
       "      <td>-6.991915</td>\n",
       "      <td>1.708025</td>\n",
       "    </tr>\n",
       "  </tbody>\n",
       "</table>\n",
       "</div>"
      ],
      "text/plain": [
       "gender                         F         M\n",
       "conversion                                \n",
       "conversion rate test_0  0.044104  0.042186\n",
       "conversion rate test_1  0.041020  0.042906\n",
       "difference             -0.003084  0.000721\n",
       "Percent_diff           -6.991915  1.708025"
      ]
     },
     "execution_count": 43,
     "metadata": {},
     "output_type": "execute_result"
    }
   ],
   "source": [
    "tri_plot('gender')\n",
    "conversion('gender')"
   ]
  },
  {
   "cell_type": "markdown",
   "metadata": {
    "id": "XjU4jIweeGdN"
   },
   "source": [
    "About 60% of wins and conversions came from Female. But there isn't a large difference between conversion rates."
   ]
  },
  {
   "cell_type": "markdown",
   "metadata": {
    "id": "q4dtYcq3QL2d"
   },
   "source": [
    "### Age"
   ]
  },
  {
   "cell_type": "code",
   "execution_count": null,
   "metadata": {
    "colab": {
     "base_uri": "https://localhost:8080/",
     "height": 639
    },
    "executionInfo": {
     "elapsed": 1577,
     "status": "ok",
     "timestamp": 1573952473362,
     "user": {
      "displayName": "Rohith Nagabhyrava",
      "photoUrl": "",
      "userId": "01839053166955948528"
     },
     "user_tz": 300
    },
    "id": "yffbgj_LOG5A",
    "outputId": "03805535-f16f-475f-cae7-a76a3a052509"
   },
   "outputs": [
    {
     "data": {
      "image/png": "[encoded data removed]",
      "text/plain": [
       "<Figure size 1512x504 with 3 Axes>"
      ]
     },
     "metadata": {
      "tags": []
     },
     "output_type": "display_data"
    },
    {
     "data": {
      "text/html": [
       "<div>\n",
       "<style scoped>\n",
       "    .dataframe tbody tr th:only-of-type {\n",
       "        vertical-align: middle;\n",
       "    }\n",
       "\n",
       "    .dataframe tbody tr th {\n",
       "        vertical-align: top;\n",
       "    }\n",
       "\n",
       "    .dataframe thead th {\n",
       "        text-align: right;\n",
       "    }\n",
       "</style>\n",
       "<table border=\"1\" class=\"dataframe\">\n",
       "  <thead>\n",
       "    <tr style=\"text-align: right;\">\n",
       "      <th>age</th>\n",
       "      <th>18</th>\n",
       "      <th>19</th>\n",
       "      <th>20</th>\n",
       "      <th>21</th>\n",
       "      <th>22</th>\n",
       "      <th>23</th>\n",
       "      <th>24</th>\n",
       "      <th>25</th>\n",
       "      <th>26</th>\n",
       "      <th>27</th>\n",
       "      <th>28</th>\n",
       "      <th>29</th>\n",
       "      <th>30</th>\n",
       "      <th>31</th>\n",
       "      <th>32</th>\n",
       "      <th>33</th>\n",
       "    </tr>\n",
       "    <tr>\n",
       "      <th>conversion</th>\n",
       "      <th></th>\n",
       "      <th></th>\n",
       "      <th></th>\n",
       "      <th></th>\n",
       "      <th></th>\n",
       "      <th></th>\n",
       "      <th></th>\n",
       "      <th></th>\n",
       "      <th></th>\n",
       "      <th></th>\n",
       "      <th></th>\n",
       "      <th></th>\n",
       "      <th></th>\n",
       "      <th></th>\n",
       "      <th></th>\n",
       "      <th></th>\n",
       "    </tr>\n",
       "  </thead>\n",
       "  <tbody>\n",
       "    <tr>\n",
       "      <th>conversion rate test_0</th>\n",
       "      <td>0.044915</td>\n",
       "      <td>0.042660</td>\n",
       "      <td>0.040215</td>\n",
       "      <td>0.042246</td>\n",
       "      <td>0.046393</td>\n",
       "      <td>0.041741</td>\n",
       "      <td>0.043500</td>\n",
       "      <td>0.039140</td>\n",
       "      <td>0.045886</td>\n",
       "      <td>0.047413</td>\n",
       "      <td>0.049870</td>\n",
       "      <td>0.041890</td>\n",
       "      <td>0.041601</td>\n",
       "      <td>0.045058</td>\n",
       "      <td>0.038085</td>\n",
       "      <td>0.042334</td>\n",
       "    </tr>\n",
       "    <tr>\n",
       "      <th>conversion rate test_1</th>\n",
       "      <td>0.048756</td>\n",
       "      <td>0.039898</td>\n",
       "      <td>0.043470</td>\n",
       "      <td>0.042996</td>\n",
       "      <td>0.041241</td>\n",
       "      <td>0.044716</td>\n",
       "      <td>0.042398</td>\n",
       "      <td>0.042676</td>\n",
       "      <td>0.037567</td>\n",
       "      <td>0.041178</td>\n",
       "      <td>0.038943</td>\n",
       "      <td>0.043275</td>\n",
       "      <td>0.039868</td>\n",
       "      <td>0.042945</td>\n",
       "      <td>0.037134</td>\n",
       "      <td>0.041530</td>\n",
       "    </tr>\n",
       "    <tr>\n",
       "      <th>difference</th>\n",
       "      <td>0.003841</td>\n",
       "      <td>-0.002762</td>\n",
       "      <td>0.003255</td>\n",
       "      <td>0.000750</td>\n",
       "      <td>-0.005152</td>\n",
       "      <td>0.002975</td>\n",
       "      <td>-0.001102</td>\n",
       "      <td>0.003536</td>\n",
       "      <td>-0.008319</td>\n",
       "      <td>-0.006235</td>\n",
       "      <td>-0.010927</td>\n",
       "      <td>0.001385</td>\n",
       "      <td>-0.001733</td>\n",
       "      <td>-0.002113</td>\n",
       "      <td>-0.000951</td>\n",
       "      <td>-0.000804</td>\n",
       "    </tr>\n",
       "    <tr>\n",
       "      <th>Percent_diff</th>\n",
       "      <td>8.551283</td>\n",
       "      <td>-6.474423</td>\n",
       "      <td>8.093115</td>\n",
       "      <td>1.775262</td>\n",
       "      <td>-11.104436</td>\n",
       "      <td>7.126905</td>\n",
       "      <td>-2.533450</td>\n",
       "      <td>9.033690</td>\n",
       "      <td>-18.130408</td>\n",
       "      <td>-13.150712</td>\n",
       "      <td>-21.910674</td>\n",
       "      <td>3.306087</td>\n",
       "      <td>-4.165404</td>\n",
       "      <td>-4.690283</td>\n",
       "      <td>-2.496917</td>\n",
       "      <td>-1.898406</td>\n",
       "    </tr>\n",
       "  </tbody>\n",
       "</table>\n",
       "</div>"
      ],
      "text/plain": [
       "age                           18        19  ...        32        33\n",
       "conversion                                  ...                    \n",
       "conversion rate test_0  0.044915  0.042660  ...  0.038085  0.042334\n",
       "conversion rate test_1  0.048756  0.039898  ...  0.037134  0.041530\n",
       "difference              0.003841 -0.002762  ... -0.000951 -0.000804\n",
       "Percent_diff            8.551283 -6.474423  ... -2.496917 -1.898406\n",
       "\n",
       "[4 rows x 16 columns]"
      ]
     },
     "execution_count": 9,
     "metadata": {
      "tags": []
     },
     "output_type": "execute_result"
    }
   ],
   "source": [
    "tri_plot('age')\n",
    "conversion('age')"
   ]
  },
  {
   "cell_type": "markdown",
   "metadata": {
    "id": "mtR0foKvekdM"
   },
   "source": [
    "Both the tests affected some age groups, some groups are affected positively and some negatively."
   ]
  },
  {
   "cell_type": "markdown",
   "metadata": {
    "id": "krGhKUchQ7Co"
   },
   "source": [
    "### Location"
   ]
  },
  {
   "cell_type": "code",
   "execution_count": null,
   "metadata": {
    "colab": {
     "base_uri": "https://localhost:8080/",
     "height": 642
    },
    "executionInfo": {
     "elapsed": 1673,
     "status": "ok",
     "timestamp": 1573952477057,
     "user": {
      "displayName": "Rohith Nagabhyrava",
      "photoUrl": "",
      "userId": "01839053166955948528"
     },
     "user_tz": 300
    },
    "id": "19qqdP61Q-qr",
    "outputId": "4b1253ee-b13d-46b6-d4d0-dcbd75cc6804"
   },
   "outputs": [
    {
     "data": {
      "image/png": "[encoded data removed]",
      "text/plain": [
       "<Figure size 1512x504 with 3 Axes>"
      ]
     },
     "metadata": {
      "tags": []
     },
     "output_type": "display_data"
    },
    {
     "data": {
      "text/html": [
       "<div>\n",
       "<style scoped>\n",
       "    .dataframe tbody tr th:only-of-type {\n",
       "        vertical-align: middle;\n",
       "    }\n",
       "\n",
       "    .dataframe tbody tr th {\n",
       "        vertical-align: top;\n",
       "    }\n",
       "\n",
       "    .dataframe thead th {\n",
       "        text-align: right;\n",
       "    }\n",
       "</style>\n",
       "<table border=\"1\" class=\"dataframe\">\n",
       "  <thead>\n",
       "    <tr style=\"text-align: right;\">\n",
       "      <th>location</th>\n",
       "      <th>AL</th>\n",
       "      <th>AR</th>\n",
       "      <th>FL</th>\n",
       "      <th>GA</th>\n",
       "      <th>KY</th>\n",
       "      <th>LA</th>\n",
       "      <th>MS</th>\n",
       "      <th>NC</th>\n",
       "      <th>SC</th>\n",
       "      <th>TN</th>\n",
       "      <th>VA</th>\n",
       "    </tr>\n",
       "    <tr>\n",
       "      <th>conversion</th>\n",
       "      <th></th>\n",
       "      <th></th>\n",
       "      <th></th>\n",
       "      <th></th>\n",
       "      <th></th>\n",
       "      <th></th>\n",
       "      <th></th>\n",
       "      <th></th>\n",
       "      <th></th>\n",
       "      <th></th>\n",
       "      <th></th>\n",
       "    </tr>\n",
       "  </thead>\n",
       "  <tbody>\n",
       "    <tr>\n",
       "      <th>conversion rate test_0</th>\n",
       "      <td>0.007523</td>\n",
       "      <td>0.049800</td>\n",
       "      <td>0.047744</td>\n",
       "      <td>0.050096</td>\n",
       "      <td>0.051921</td>\n",
       "      <td>0.063587</td>\n",
       "      <td>0.010743</td>\n",
       "      <td>0.005655</td>\n",
       "      <td>0.060377</td>\n",
       "      <td>0.009054</td>\n",
       "      <td>0.047914</td>\n",
       "    </tr>\n",
       "    <tr>\n",
       "      <th>conversion rate test_1</th>\n",
       "      <td>0.015661</td>\n",
       "      <td>0.068732</td>\n",
       "      <td>0.061087</td>\n",
       "      <td>0.058963</td>\n",
       "      <td>0.064398</td>\n",
       "      <td>0.067951</td>\n",
       "      <td>0.021560</td>\n",
       "      <td>0.017088</td>\n",
       "      <td>0.068416</td>\n",
       "      <td>0.023893</td>\n",
       "      <td>0.057257</td>\n",
       "    </tr>\n",
       "    <tr>\n",
       "      <th>difference</th>\n",
       "      <td>0.008137</td>\n",
       "      <td>0.018932</td>\n",
       "      <td>0.013343</td>\n",
       "      <td>0.008867</td>\n",
       "      <td>0.012477</td>\n",
       "      <td>0.004364</td>\n",
       "      <td>0.010817</td>\n",
       "      <td>0.011434</td>\n",
       "      <td>0.008040</td>\n",
       "      <td>0.014839</td>\n",
       "      <td>0.009342</td>\n",
       "    </tr>\n",
       "    <tr>\n",
       "      <th>Percent_diff</th>\n",
       "      <td>108.165786</td>\n",
       "      <td>38.015161</td>\n",
       "      <td>27.947768</td>\n",
       "      <td>17.699215</td>\n",
       "      <td>24.031077</td>\n",
       "      <td>6.862937</td>\n",
       "      <td>100.686246</td>\n",
       "      <td>202.203181</td>\n",
       "      <td>13.315716</td>\n",
       "      <td>163.895334</td>\n",
       "      <td>19.497746</td>\n",
       "    </tr>\n",
       "  </tbody>\n",
       "</table>\n",
       "</div>"
      ],
      "text/plain": [
       "location                        AL         AR  ...          TN         VA\n",
       "conversion                                     ...                       \n",
       "conversion rate test_0    0.007523   0.049800  ...    0.009054   0.047914\n",
       "conversion rate test_1    0.015661   0.068732  ...    0.023893   0.057257\n",
       "difference                0.008137   0.018932  ...    0.014839   0.009342\n",
       "Percent_diff            108.165786  38.015161  ...  163.895334  19.497746\n",
       "\n",
       "[4 rows x 11 columns]"
      ]
     },
     "execution_count": 10,
     "metadata": {
      "tags": []
     },
     "output_type": "execute_result"
    }
   ],
   "source": [
    "tri_plot('location')\n",
    "conversion('location')"
   ]
  },
  {
   "cell_type": "markdown",
   "metadata": {
    "id": "65a2l-jdfuDl"
   },
   "source": [
    "Both the tests have users from different locations.  Win and conversion proportions dosen't look to follow a trend."
   ]
  },
  {
   "cell_type": "markdown",
   "metadata": {
    "id": "lWgiymxlUdrv"
   },
   "source": [
    "### Day of week"
   ]
  },
  {
   "cell_type": "code",
   "execution_count": null,
   "metadata": {
    "colab": {
     "base_uri": "https://localhost:8080/",
     "height": 686
    },
    "executionInfo": {
     "elapsed": 1626,
     "status": "ok",
     "timestamp": 1573845906160,
     "user": {
      "displayName": "Rohith Nagabhyrava",
      "photoUrl": "",
      "userId": "01839053166955948528"
     },
     "user_tz": 300
    },
    "id": "MBznTlBqUiO_",
    "outputId": "2c057273-13c8-4307-c106-b93b9c9e0169"
   },
   "outputs": [
    {
     "data": {
      "image/png": "[encoded data removed]",
      "text/plain": [
       "<Figure size 1512x504 with 3 Axes>"
      ]
     },
     "metadata": {
      "tags": []
     },
     "output_type": "display_data"
    },
    {
     "data": {
      "text/html": [
       "<div>\n",
       "<style scoped>\n",
       "    .dataframe tbody tr th:only-of-type {\n",
       "        vertical-align: middle;\n",
       "    }\n",
       "\n",
       "    .dataframe tbody tr th {\n",
       "        vertical-align: top;\n",
       "    }\n",
       "\n",
       "    .dataframe thead th {\n",
       "        text-align: right;\n",
       "    }\n",
       "</style>\n",
       "<table border=\"1\" class=\"dataframe\">\n",
       "  <thead>\n",
       "    <tr style=\"text-align: right;\">\n",
       "      <th>dow</th>\n",
       "      <th>Friday</th>\n",
       "      <th>Monday</th>\n",
       "      <th>Saturday</th>\n",
       "      <th>Sunday</th>\n",
       "      <th>Thursday</th>\n",
       "      <th>Tuesday</th>\n",
       "      <th>Wednesday</th>\n",
       "    </tr>\n",
       "    <tr>\n",
       "      <th>conversion</th>\n",
       "      <th></th>\n",
       "      <th></th>\n",
       "      <th></th>\n",
       "      <th></th>\n",
       "      <th></th>\n",
       "      <th></th>\n",
       "      <th></th>\n",
       "    </tr>\n",
       "  </thead>\n",
       "  <tbody>\n",
       "    <tr>\n",
       "      <th>conversion rate test_0</th>\n",
       "      <td>0.041886</td>\n",
       "      <td>0.045303</td>\n",
       "      <td>0.041172</td>\n",
       "      <td>0.045004</td>\n",
       "      <td>0.043907</td>\n",
       "      <td>0.041458</td>\n",
       "      <td>0.043701</td>\n",
       "    </tr>\n",
       "    <tr>\n",
       "      <th>conversion rate test_1</th>\n",
       "      <td>0.036626</td>\n",
       "      <td>0.042068</td>\n",
       "      <td>0.040128</td>\n",
       "      <td>0.043877</td>\n",
       "      <td>0.043397</td>\n",
       "      <td>0.042792</td>\n",
       "      <td>0.042828</td>\n",
       "    </tr>\n",
       "    <tr>\n",
       "      <th>difference</th>\n",
       "      <td>-0.005260</td>\n",
       "      <td>-0.003235</td>\n",
       "      <td>-0.001045</td>\n",
       "      <td>-0.001126</td>\n",
       "      <td>-0.000510</td>\n",
       "      <td>0.001335</td>\n",
       "      <td>-0.000873</td>\n",
       "    </tr>\n",
       "    <tr>\n",
       "      <th>Percent_diff</th>\n",
       "      <td>-12.558052</td>\n",
       "      <td>-7.140535</td>\n",
       "      <td>-2.536949</td>\n",
       "      <td>-2.502306</td>\n",
       "      <td>-1.161207</td>\n",
       "      <td>3.219143</td>\n",
       "      <td>-1.997525</td>\n",
       "    </tr>\n",
       "  </tbody>\n",
       "</table>\n",
       "</div>"
      ],
      "text/plain": [
       "dow                        Friday    Monday  ...   Tuesday  Wednesday\n",
       "conversion                                   ...                     \n",
       "conversion rate test_0   0.041886  0.045303  ...  0.041458   0.043701\n",
       "conversion rate test_1   0.036626  0.042068  ...  0.042792   0.042828\n",
       "difference              -0.005260 -0.003235  ...  0.001335  -0.000873\n",
       "Percent_diff           -12.558052 -7.140535  ...  3.219143  -1.997525\n",
       "\n",
       "[4 rows x 7 columns]"
      ]
     },
     "execution_count": 13,
     "metadata": {
      "tags": []
     },
     "output_type": "execute_result"
    }
   ],
   "source": [
    "tri_plot('dow')\n",
    "conversion('dow')"
   ]
  },
  {
   "cell_type": "markdown",
   "metadata": {
    "id": "lrdn-_UihuVl"
   },
   "source": [
    "Sundays and Mondays have highest bids, wins and convertions in both the tests. Test 1 affected negatively on conversions on most of the days."
   ]
  },
  {
   "cell_type": "markdown",
   "metadata": {
    "id": "GfdAEyhxVde_"
   },
   "source": [
    "### Hour of the day"
   ]
  },
  {
   "cell_type": "code",
   "execution_count": null,
   "metadata": {
    "colab": {
     "base_uri": "https://localhost:8080/",
     "height": 693
    },
    "executionInfo": {
     "elapsed": 2034,
     "status": "ok",
     "timestamp": 1573824308730,
     "user": {
      "displayName": "Rohith Nagabhyrava",
      "photoUrl": "",
      "userId": "01839053166955948528"
     },
     "user_tz": 300
    },
    "id": "I5oMQ83KVhDQ",
    "outputId": "768bd425-d479-4dd6-f18b-8d2c65422e43"
   },
   "outputs": [
    {
     "data": {
      "image/png": "[encoded data removed]",
      "text/plain": [
       "<Figure size 1512x504 with 3 Axes>"
      ]
     },
     "metadata": {
      "tags": []
     },
     "output_type": "display_data"
    },
    {
     "data": {
      "text/html": [
       "<div>\n",
       "<style scoped>\n",
       "    .dataframe tbody tr th:only-of-type {\n",
       "        vertical-align: middle;\n",
       "    }\n",
       "\n",
       "    .dataframe tbody tr th {\n",
       "        vertical-align: top;\n",
       "    }\n",
       "\n",
       "    .dataframe thead th {\n",
       "        text-align: right;\n",
       "    }\n",
       "</style>\n",
       "<table border=\"1\" class=\"dataframe\">\n",
       "  <thead>\n",
       "    <tr style=\"text-align: right;\">\n",
       "      <th>hod</th>\n",
       "      <th>0</th>\n",
       "      <th>1</th>\n",
       "      <th>2</th>\n",
       "      <th>3</th>\n",
       "      <th>4</th>\n",
       "      <th>5</th>\n",
       "      <th>6</th>\n",
       "      <th>7</th>\n",
       "      <th>8</th>\n",
       "      <th>9</th>\n",
       "      <th>10</th>\n",
       "      <th>11</th>\n",
       "      <th>12</th>\n",
       "      <th>13</th>\n",
       "      <th>14</th>\n",
       "      <th>15</th>\n",
       "      <th>16</th>\n",
       "      <th>17</th>\n",
       "      <th>18</th>\n",
       "      <th>19</th>\n",
       "      <th>20</th>\n",
       "      <th>21</th>\n",
       "      <th>22</th>\n",
       "      <th>23</th>\n",
       "    </tr>\n",
       "    <tr>\n",
       "      <th>conversion</th>\n",
       "      <th></th>\n",
       "      <th></th>\n",
       "      <th></th>\n",
       "      <th></th>\n",
       "      <th></th>\n",
       "      <th></th>\n",
       "      <th></th>\n",
       "      <th></th>\n",
       "      <th></th>\n",
       "      <th></th>\n",
       "      <th></th>\n",
       "      <th></th>\n",
       "      <th></th>\n",
       "      <th></th>\n",
       "      <th></th>\n",
       "      <th></th>\n",
       "      <th></th>\n",
       "      <th></th>\n",
       "      <th></th>\n",
       "      <th></th>\n",
       "      <th></th>\n",
       "      <th></th>\n",
       "      <th></th>\n",
       "      <th></th>\n",
       "    </tr>\n",
       "  </thead>\n",
       "  <tbody>\n",
       "    <tr>\n",
       "      <th>conversion rate test_0</th>\n",
       "      <td>0.037970</td>\n",
       "      <td>0.050652</td>\n",
       "      <td>0.040693</td>\n",
       "      <td>0.045267</td>\n",
       "      <td>0.050000</td>\n",
       "      <td>0.046426</td>\n",
       "      <td>0.045907</td>\n",
       "      <td>0.048466</td>\n",
       "      <td>0.042625</td>\n",
       "      <td>0.038231</td>\n",
       "      <td>0.038432</td>\n",
       "      <td>0.040787</td>\n",
       "      <td>0.042767</td>\n",
       "      <td>0.036412</td>\n",
       "      <td>0.044965</td>\n",
       "      <td>0.043952</td>\n",
       "      <td>0.049257</td>\n",
       "      <td>0.041309</td>\n",
       "      <td>0.042150</td>\n",
       "      <td>0.038493</td>\n",
       "      <td>0.039922</td>\n",
       "      <td>0.042896</td>\n",
       "      <td>0.048323</td>\n",
       "      <td>0.043810</td>\n",
       "    </tr>\n",
       "    <tr>\n",
       "      <th>conversion rate test_1</th>\n",
       "      <td>0.048368</td>\n",
       "      <td>0.041608</td>\n",
       "      <td>0.038251</td>\n",
       "      <td>0.044178</td>\n",
       "      <td>0.041533</td>\n",
       "      <td>0.041839</td>\n",
       "      <td>0.044014</td>\n",
       "      <td>0.038098</td>\n",
       "      <td>0.036353</td>\n",
       "      <td>0.042828</td>\n",
       "      <td>0.042307</td>\n",
       "      <td>0.040011</td>\n",
       "      <td>0.037318</td>\n",
       "      <td>0.038288</td>\n",
       "      <td>0.044277</td>\n",
       "      <td>0.043846</td>\n",
       "      <td>0.038306</td>\n",
       "      <td>0.042586</td>\n",
       "      <td>0.040211</td>\n",
       "      <td>0.048579</td>\n",
       "      <td>0.038163</td>\n",
       "      <td>0.044325</td>\n",
       "      <td>0.043892</td>\n",
       "      <td>0.043791</td>\n",
       "    </tr>\n",
       "    <tr>\n",
       "      <th>difference</th>\n",
       "      <td>0.010398</td>\n",
       "      <td>-0.009044</td>\n",
       "      <td>-0.002442</td>\n",
       "      <td>-0.001090</td>\n",
       "      <td>-0.008467</td>\n",
       "      <td>-0.004587</td>\n",
       "      <td>-0.001893</td>\n",
       "      <td>-0.010368</td>\n",
       "      <td>-0.006272</td>\n",
       "      <td>0.004598</td>\n",
       "      <td>0.003874</td>\n",
       "      <td>-0.000775</td>\n",
       "      <td>-0.005449</td>\n",
       "      <td>0.001875</td>\n",
       "      <td>-0.000688</td>\n",
       "      <td>-0.000105</td>\n",
       "      <td>-0.010951</td>\n",
       "      <td>0.001276</td>\n",
       "      <td>-0.001939</td>\n",
       "      <td>0.010086</td>\n",
       "      <td>-0.001759</td>\n",
       "      <td>0.001428</td>\n",
       "      <td>-0.004431</td>\n",
       "      <td>-0.000019</td>\n",
       "    </tr>\n",
       "    <tr>\n",
       "      <th>Percent_diff</th>\n",
       "      <td>27.385816</td>\n",
       "      <td>-17.854603</td>\n",
       "      <td>-6.000810</td>\n",
       "      <td>-2.407043</td>\n",
       "      <td>-16.934776</td>\n",
       "      <td>-9.881116</td>\n",
       "      <td>-4.124359</td>\n",
       "      <td>-21.393006</td>\n",
       "      <td>-14.714879</td>\n",
       "      <td>12.025655</td>\n",
       "      <td>10.080878</td>\n",
       "      <td>-1.900543</td>\n",
       "      <td>-12.741668</td>\n",
       "      <td>5.149866</td>\n",
       "      <td>-1.530738</td>\n",
       "      <td>-0.239770</td>\n",
       "      <td>-22.233098</td>\n",
       "      <td>3.089738</td>\n",
       "      <td>-4.599543</td>\n",
       "      <td>26.202781</td>\n",
       "      <td>-4.404921</td>\n",
       "      <td>3.329294</td>\n",
       "      <td>-9.169038</td>\n",
       "      <td>-0.043478</td>\n",
       "    </tr>\n",
       "  </tbody>\n",
       "</table>\n",
       "</div>"
      ],
      "text/plain": [
       "hod                            0          1   ...        22        23\n",
       "conversion                                    ...                    \n",
       "conversion rate test_0   0.037970   0.050652  ...  0.048323  0.043810\n",
       "conversion rate test_1   0.048368   0.041608  ...  0.043892  0.043791\n",
       "difference               0.010398  -0.009044  ... -0.004431 -0.000019\n",
       "Percent_diff            27.385816 -17.854603  ... -9.169038 -0.043478\n",
       "\n",
       "[4 rows x 24 columns]"
      ]
     },
     "execution_count": 29,
     "metadata": {
      "tags": []
     },
     "output_type": "execute_result"
    }
   ],
   "source": [
    "tri_plot('hod')\n",
    "conversion('hod')"
   ]
  },
  {
   "cell_type": "markdown",
   "metadata": {
    "id": "aiFkKQvJifNN"
   },
   "source": [
    "* Most of the bids and wins were from 0-12. But the conversions dosent seem to follow the trend.\n",
    "\n",
    "* Test 0 performed better than Test 1 during some hours and Test 1 during other hours"
   ]
  },
  {
   "cell_type": "markdown",
   "metadata": {
    "id": "VQxAl7h-LCIR"
   },
   "source": [
    "##Did the new creative increase conversions?"
   ]
  },
  {
   "cell_type": "markdown",
   "metadata": {
    "id": "KemK4xSKWSA7"
   },
   "source": [
    "### Conversion Data"
   ]
  },
  {
   "cell_type": "markdown",
   "metadata": {
    "id": "CWhpNmsVbkDV"
   },
   "source": [
    "We ran two different versions of a creative, a and b, for which we count the number of users and whether they convert or not. We can summarize this in a contingency table showing the frequency distribution of the events:"
   ]
  },
  {
   "cell_type": "code",
   "execution_count": null,
   "metadata": {
    "colab": {
     "base_uri": "https://localhost:8080/",
     "height": 212
    },
    "executionInfo": {
     "elapsed": 320,
     "status": "ok",
     "timestamp": 1573781529659,
     "user": {
      "displayName": "Rohith Nagabhyrava",
      "photoUrl": "",
      "userId": "01839053166955948528"
     },
     "user_tz": 300
    },
    "id": "kNU-VoXbdAIG",
    "outputId": "7caca32b-75af-4361-a9da-0e92bc3302b8"
   },
   "outputs": [
    {
     "name": "stdout",
     "output_type": "stream",
     "text": [
      "Total ads shown: 150159\n",
      "==============================\n",
      "test\n",
      "0    65564\n",
      "1    84595\n",
      "Name: conversion, dtype: int64\n"
     ]
    },
    {
     "data": {
      "text/html": [
       "<div>\n",
       "<style scoped>\n",
       "    .dataframe tbody tr th:only-of-type {\n",
       "        vertical-align: middle;\n",
       "    }\n",
       "\n",
       "    .dataframe tbody tr th {\n",
       "        vertical-align: top;\n",
       "    }\n",
       "\n",
       "    .dataframe thead th {\n",
       "        text-align: right;\n",
       "    }\n",
       "</style>\n",
       "<table border=\"1\" class=\"dataframe\">\n",
       "  <thead>\n",
       "    <tr style=\"text-align: right;\">\n",
       "      <th></th>\n",
       "      <th>version</th>\n",
       "      <th>not_converted</th>\n",
       "      <th>converted</th>\n",
       "      <th>conv_rate</th>\n",
       "    </tr>\n",
       "  </thead>\n",
       "  <tbody>\n",
       "    <tr>\n",
       "      <th>0</th>\n",
       "      <td>A</td>\n",
       "      <td>62841</td>\n",
       "      <td>2723</td>\n",
       "      <td>0.041532</td>\n",
       "    </tr>\n",
       "    <tr>\n",
       "      <th>1</th>\n",
       "      <td>B</td>\n",
       "      <td>81203</td>\n",
       "      <td>3392</td>\n",
       "      <td>0.040097</td>\n",
       "    </tr>\n",
       "  </tbody>\n",
       "</table>\n",
       "</div>"
      ],
      "text/plain": [
       "  version  not_converted  converted  conv_rate\n",
       "0       A          62841       2723   0.041532\n",
       "1       B          81203       3392   0.040097"
      ]
     },
     "execution_count": 107,
     "metadata": {
      "tags": []
     },
     "output_type": "execute_result"
    }
   ],
   "source": [
    "data = pd.DataFrame({\n",
    "    'version': ['A', 'B'],\n",
    "    'not_converted': [62841, 81203],\n",
    "    'converted': [2723, 3392],\n",
    "})[['version', 'not_converted', 'converted']]\n",
    "data['conv_rate'] = data['converted']/(data['converted']+data['not_converted'])\n",
    "print(\"Total ads shown:\",len(bid_user[bid_user['win']==1]))\n",
    "print(\"=\"*30)\n",
    "print(bid_user_conv.groupby(['test'])['conversion'].size())\n",
    "data"
   ]
  },
  {
   "cell_type": "markdown",
   "metadata": {
    "id": "3_svgTsdb9ff"
   },
   "source": [
    "It is trivial to compute the conversion rate of each version, 4.153% for a and 4.009% for b. With such a relatively small difference, however, can we convincingly say that the version b converts better? To test the statistical significance of a result like this, a hypothesis testing can be used."
   ]
  },
  {
   "cell_type": "markdown",
   "metadata": {
    "id": "RVzGRoAlQ_8J"
   },
   "source": [
    "### Comparing Two Proportions"
   ]
  },
  {
   "cell_type": "markdown",
   "metadata": {
    "id": "CNEmpAAzawRJ"
   },
   "source": [
    "The Hypothesis Testing is a statistical test used to determine whether the hypothesis assumed for the sample of data stands true for the entire population or not. Simply, the hypothesis is an assumption which is tested to determine the relationship between two data sets.\n",
    "\n",
    "\n",
    "\n",
    "Let's formalize our thought process a little bit, suppose that we have obtained data from n visitors,  nA  of which have been sent to converts A, and  nB  of which have been sent to converts B. Further, let  XA  and  XB  denote the number of visitors for whom we obtained a 'successful' outcome in the two groups. The proportion of successes in the two groups is then given by  pA^=XA/nA  and  pB^=XB/nB  respectively. The estimated difference in success rates is then give by the difference in proportions:  pA^−pB^ :\n",
    "\n",
    "To assess whether we have statistical evidence that the two converts' success rates truely differ, we can perform a hypothesis test. The null hypothesis that we want to test is that the two converts' true success rates are equal, whereas the alternative is that they differ (one is higher than the other). If  pA  = the proportion of the page A population whom we obtained a successful outcome and  pB  = the proportion of the page B population whom we obtained a successful outcome then we are interested in testing the following hypothesis:\n",
    "\n",
    "Hypothesis | Condition\n",
    "--- | ---\n",
    "H0 | pA>=pB\n",
    "HA | pA<pB\n",
    "\n",
    "\n",
    "A test statistic is a single metric that can be used to evaluate the null hypothesis and the standard way to obtain this metric is to compute the z-score that measures how many standard deviations below or above the population mean a raw score is\n",
    "\n",
    "$z=\\frac{x-μ}{SE}$\n",
    "\n",
    "\n",
    "Where:\n",
    "\n",
    "* μ  denotes the mean\n",
    "*SE  or sometimes seen as the symbol  σ  denotes the standard error, computed by  s/√n , where  s  denotes the standard error and  n  denotes the number of samples\n",
    "\n",
    "\n",
    "For our test the underlying metric is a binary yes/no variable (event), which means the appropriate test statistic is a test for differences in proportions:\n",
    "\n",
    "$Z=\\frac{(pA^−pB^)−(pA−pB)}{SE(pA−pB)}$\n",
    "\n",
    "$Z = \\frac{(pA^−pB^)−0}{√p^(1−p^)(1/nA+1/nB)}$\n",
    "\n",
    "where Where  p^=(XA+XB)/(nA+nB)\n",
    "\n"
   ]
  },
  {
   "cell_type": "markdown",
   "metadata": {
    "id": "KsUWDwsBWbIn"
   },
   "source": [
    "#### Calculating the Statistic"
   ]
  },
  {
   "cell_type": "code",
   "execution_count": null,
   "metadata": {
    "colab": {
     "base_uri": "https://localhost:8080/",
     "height": 34
    },
    "executionInfo": {
     "elapsed": 319,
     "status": "ok",
     "timestamp": 1573783093585,
     "user": {
      "displayName": "Rohith Nagabhyrava",
      "photoUrl": "",
      "userId": "01839053166955948528"
     },
     "user_tz": 300
    },
    "id": "79nl9muNPC96",
    "outputId": "b781c601-c70f-4d5e-f5dc-56f6c521bd0a"
   },
   "outputs": [
    {
     "name": "stdout",
     "output_type": "stream",
     "text": [
      "zscore = 1.395, pvalue between = 0.919, pvalue beyond = 0.081\n"
     ]
    }
   ],
   "source": [
    "zscore, pvalue = proportions_ztest(data['converted'], (data['converted']+data['not_converted']), alternative = 'smaller')\n",
    "print('zscore = {:.3f}, pvalue between = {:.3f}, pvalue beyond = {:.3f}'.format(zscore,pvalue,1-pvalue))"
   ]
  },
  {
   "cell_type": "markdown",
   "metadata": {
    "id": "_09naRAiaFbI"
   },
   "source": [
    "Based on the fact that our p-value is not smaller than the 0.05 commonly used threshold, the test statistic tells us we do not have strong evidence against our null hypothesis, i.e. we do not have strong evidence that the creative 1 was better than creative 0."
   ]
  },
  {
   "cell_type": "markdown",
   "metadata": {
    "id": "cE8OkElTQwxh"
   },
   "source": [
    "### A Regression Approach\n",
    "\n",
    "In this final part, we will confirm that the result acheived in the previous A/B test can also be acheived by performing logistic regression. I will use statsmodels to fit the regression model to see if there is a significant difference in conversion based on which page a customer receives."
   ]
  },
  {
   "cell_type": "code",
   "execution_count": null,
   "metadata": {
    "id": "SRDtW05uQwKb"
   },
   "outputs": [],
   "source": [
    "df = bid_user_conv[['test','conversion']]\n",
    "df['intercept'] = 1"
   ]
  },
  {
   "cell_type": "code",
   "execution_count": null,
   "metadata": {
    "colab": {
     "base_uri": "https://localhost:8080/",
     "height": 334
    },
    "executionInfo": {
     "elapsed": 2343,
     "status": "ok",
     "timestamp": 1573783112360,
     "user": {
      "displayName": "Rohith Nagabhyrava",
      "photoUrl": "",
      "userId": "01839053166955948528"
     },
     "user_tz": 300
    },
    "id": "cRPqHNQcR9DT",
    "outputId": "74f3cac3-3d46-46bc-bf54-a7131a0fd786"
   },
   "outputs": [
    {
     "name": "stdout",
     "output_type": "stream",
     "text": [
      "Optimization terminated successfully.\n",
      "         Current function value: 0.170230\n",
      "         Iterations 7\n",
      "                           Logit Regression Results                           \n",
      "==============================================================================\n",
      "Dep. Variable:             conversion   No. Observations:               150159\n",
      "Model:                          Logit   Df Residuals:                   150157\n",
      "Method:                           MLE   Df Model:                            1\n",
      "Date:                Fri, 15 Nov 2019   Pseudo R-squ.:               3.803e-05\n",
      "Time:                        01:58:31   Log-Likelihood:                -25562.\n",
      "converged:                       True   LL-Null:                       -25563.\n",
      "Covariance Type:            nonrobust   LLR p-value:                    0.1632\n",
      "==============================================================================\n",
      "                 coef    std err          z      P>|z|      [0.025      0.975]\n",
      "------------------------------------------------------------------------------\n",
      "intercept     -3.1389      0.020   -160.356      0.000      -3.177      -3.101\n",
      "test          -0.0367      0.026     -1.395      0.163      -0.088       0.015\n",
      "==============================================================================\n"
     ]
    }
   ],
   "source": [
    "log = sm.Logit(df['conversion'], df[['intercept', 'test']])\n",
    "results = log.fit()\n",
    "print(results.summary())"
   ]
  },
  {
   "cell_type": "markdown",
   "metadata": {
    "id": "mf3q272aS7KP"
   },
   "source": [
    "Regression analysis I\n",
    "\n",
    "* The p-value associated with test is 0.16 we fail to reject the null hyphothesis because these two p-values are greater than 0.05(Type Error I).\n",
    "\n"
   ]
  },
  {
   "cell_type": "markdown",
   "metadata": {
    "id": "Zm6Ol2xWXlhp"
   },
   "source": [
    "### AB Testing Summary"
   ]
  },
  {
   "cell_type": "markdown",
   "metadata": {
    "id": "yliX3420YwUK"
   },
   "source": [
    "To answer wheather the test users more likely to convert than control users, we performed the following tests: \n",
    "* A/B test with z-test and logistic regression models. In the z-test, we found the p-value is higher than type I error, and because of this we fails to reject the null hypothesis i.e prove that control users were more likely to convert.\n",
    "* After that, we fit the regression model and again failed to reject the null hypothesis.\n",
    "* p-value of reg analysis is different from results in Hypothesis Test because the null hypothesis is different. \n",
    "\n",
    "1. In Z-test, null=new page is not better than old page, alternative=new page is better. So Z-test is a one-sided test. \n",
    "2. Here, we hope to find out that conversion depends on which landing page users use. The alternative here is that conversion rates are different, and null is there is no difference. So this is a two-sided test"
   ]
  },
  {
   "cell_type": "markdown",
   "metadata": {
    "id": "tJ5d-jih3rcx"
   },
   "source": [
    "### [Updated] But..\n",
    "\n",
    "When we take a look at the conversion rate by each state and test."
   ]
  },
  {
   "cell_type": "code",
   "execution_count": null,
   "metadata": {
    "colab": {
     "base_uri": "https://localhost:8080/",
     "height": 314
    },
    "executionInfo": {
     "elapsed": 408,
     "status": "ok",
     "timestamp": 1573952816944,
     "user": {
      "displayName": "Rohith Nagabhyrava",
      "photoUrl": "",
      "userId": "01839053166955948528"
     },
     "user_tz": 300
    },
    "id": "85OE9xOA3xCa",
    "outputId": "8cdaa406-6b40-47f3-80b2-0081fc6eacdb"
   },
   "outputs": [
    {
     "data": {
      "text/html": [
       "<div>\n",
       "<style scoped>\n",
       "    .dataframe tbody tr th:only-of-type {\n",
       "        vertical-align: middle;\n",
       "    }\n",
       "\n",
       "    .dataframe tbody tr th {\n",
       "        vertical-align: top;\n",
       "    }\n",
       "\n",
       "    .dataframe thead th {\n",
       "        text-align: right;\n",
       "    }\n",
       "</style>\n",
       "<table border=\"1\" class=\"dataframe\">\n",
       "  <thead>\n",
       "    <tr style=\"text-align: right;\">\n",
       "      <th>location</th>\n",
       "      <th>AL</th>\n",
       "      <th>AR</th>\n",
       "      <th>FL</th>\n",
       "      <th>GA</th>\n",
       "      <th>KY</th>\n",
       "      <th>LA</th>\n",
       "      <th>MS</th>\n",
       "      <th>NC</th>\n",
       "      <th>SC</th>\n",
       "      <th>TN</th>\n",
       "      <th>VA</th>\n",
       "    </tr>\n",
       "    <tr>\n",
       "      <th>conversion</th>\n",
       "      <th></th>\n",
       "      <th></th>\n",
       "      <th></th>\n",
       "      <th></th>\n",
       "      <th></th>\n",
       "      <th></th>\n",
       "      <th></th>\n",
       "      <th></th>\n",
       "      <th></th>\n",
       "      <th></th>\n",
       "      <th></th>\n",
       "    </tr>\n",
       "  </thead>\n",
       "  <tbody>\n",
       "    <tr>\n",
       "      <th>conversion rate test_0</th>\n",
       "      <td>0.007523</td>\n",
       "      <td>0.049800</td>\n",
       "      <td>0.047744</td>\n",
       "      <td>0.050096</td>\n",
       "      <td>0.051921</td>\n",
       "      <td>0.063587</td>\n",
       "      <td>0.010743</td>\n",
       "      <td>0.005655</td>\n",
       "      <td>0.060377</td>\n",
       "      <td>0.009054</td>\n",
       "      <td>0.047914</td>\n",
       "    </tr>\n",
       "    <tr>\n",
       "      <th>conversion rate test_1</th>\n",
       "      <td>0.015661</td>\n",
       "      <td>0.068732</td>\n",
       "      <td>0.061087</td>\n",
       "      <td>0.058963</td>\n",
       "      <td>0.064398</td>\n",
       "      <td>0.067951</td>\n",
       "      <td>0.021560</td>\n",
       "      <td>0.017088</td>\n",
       "      <td>0.068416</td>\n",
       "      <td>0.023893</td>\n",
       "      <td>0.057257</td>\n",
       "    </tr>\n",
       "    <tr>\n",
       "      <th>difference</th>\n",
       "      <td>0.008137</td>\n",
       "      <td>0.018932</td>\n",
       "      <td>0.013343</td>\n",
       "      <td>0.008867</td>\n",
       "      <td>0.012477</td>\n",
       "      <td>0.004364</td>\n",
       "      <td>0.010817</td>\n",
       "      <td>0.011434</td>\n",
       "      <td>0.008040</td>\n",
       "      <td>0.014839</td>\n",
       "      <td>0.009342</td>\n",
       "    </tr>\n",
       "    <tr>\n",
       "      <th>Percent_diff</th>\n",
       "      <td>108.165786</td>\n",
       "      <td>38.015161</td>\n",
       "      <td>27.947768</td>\n",
       "      <td>17.699215</td>\n",
       "      <td>24.031077</td>\n",
       "      <td>6.862937</td>\n",
       "      <td>100.686246</td>\n",
       "      <td>202.203181</td>\n",
       "      <td>13.315716</td>\n",
       "      <td>163.895334</td>\n",
       "      <td>19.497746</td>\n",
       "    </tr>\n",
       "    <tr>\n",
       "      <th>proportion of requests_t0</th>\n",
       "      <td>0.009548</td>\n",
       "      <td>0.132574</td>\n",
       "      <td>0.120455</td>\n",
       "      <td>0.124495</td>\n",
       "      <td>0.135512</td>\n",
       "      <td>0.159750</td>\n",
       "      <td>0.013588</td>\n",
       "      <td>0.007345</td>\n",
       "      <td>0.161219</td>\n",
       "      <td>0.010650</td>\n",
       "      <td>0.124862</td>\n",
       "    </tr>\n",
       "    <tr>\n",
       "      <th>proportion of requests_t1</th>\n",
       "      <td>0.046580</td>\n",
       "      <td>0.116450</td>\n",
       "      <td>0.104363</td>\n",
       "      <td>0.102889</td>\n",
       "      <td>0.113797</td>\n",
       "      <td>0.116450</td>\n",
       "      <td>0.063384</td>\n",
       "      <td>0.051002</td>\n",
       "      <td>0.115271</td>\n",
       "      <td>0.072229</td>\n",
       "      <td>0.097583</td>\n",
       "    </tr>\n",
       "    <tr>\n",
       "      <th>prop_difference</th>\n",
       "      <td>0.037032</td>\n",
       "      <td>-0.016124</td>\n",
       "      <td>-0.016092</td>\n",
       "      <td>-0.021606</td>\n",
       "      <td>-0.021715</td>\n",
       "      <td>-0.043300</td>\n",
       "      <td>0.049796</td>\n",
       "      <td>0.043658</td>\n",
       "      <td>-0.045948</td>\n",
       "      <td>0.061579</td>\n",
       "      <td>-0.027280</td>\n",
       "    </tr>\n",
       "    <tr>\n",
       "      <th>Percent_diff_prop</th>\n",
       "      <td>387.837899</td>\n",
       "      <td>-12.162151</td>\n",
       "      <td>-13.359447</td>\n",
       "      <td>-17.354821</td>\n",
       "      <td>-16.024473</td>\n",
       "      <td>-27.104682</td>\n",
       "      <td>366.475172</td>\n",
       "      <td>594.397111</td>\n",
       "      <td>-28.500330</td>\n",
       "      <td>578.203277</td>\n",
       "      <td>-21.847860</td>\n",
       "    </tr>\n",
       "  </tbody>\n",
       "</table>\n",
       "</div>"
      ],
      "text/plain": [
       "location                           AL         AR  ...          TN         VA\n",
       "conversion                                        ...                       \n",
       "conversion rate test_0       0.007523   0.049800  ...    0.009054   0.047914\n",
       "conversion rate test_1       0.015661   0.068732  ...    0.023893   0.057257\n",
       "difference                   0.008137   0.018932  ...    0.014839   0.009342\n",
       "Percent_diff               108.165786  38.015161  ...  163.895334  19.497746\n",
       "proportion of requests_t0    0.009548   0.132574  ...    0.010650   0.124862\n",
       "proportion of requests_t1    0.046580   0.116450  ...    0.072229   0.097583\n",
       "prop_difference              0.037032  -0.016124  ...    0.061579  -0.027280\n",
       "Percent_diff_prop          387.837899 -12.162151  ...  578.203277 -21.847860\n",
       "\n",
       "[8 rows x 11 columns]"
      ]
     },
     "execution_count": 23,
     "metadata": {
      "tags": []
     },
     "output_type": "execute_result"
    }
   ],
   "source": [
    "loc = conversion('location')\n",
    "loc.loc['proportion of requests_t0']=pd.value_counts(df0[df0['conversion']==1]['location'],normalize=True).sort_index()\n",
    "loc.loc['proportion of requests_t1']=pd.value_counts(df1[df1['conversion']==1]['location'],normalize=True).sort_index()\n",
    "loc.loc['prop_difference'] = loc.loc['proportion of requests_t1'] - loc.loc['proportion of requests_t0']\n",
    "loc.loc['Percent_diff_prop'] = ((loc.loc['proportion of requests_t1'] - loc.loc['proportion of requests_t0'])/loc.loc['proportion of requests_t0'])*100\n",
    "loc\n"
   ]
  },
  {
   "cell_type": "markdown",
   "metadata": {
    "id": "GLF7Hju__g8o"
   },
   "source": [
    "* From the above we see that there is a clear increase in conversion rate in each state.\n",
    "* But the hypothesis test failed to detect this because there is a huge differences in the proportions of record from each states."
   ]
  },
  {
   "cell_type": "markdown",
   "metadata": {
    "id": "70_fN24V2OMa"
   },
   "source": [
    "## Would retargeting have improved performance for this campaign?"
   ]
  },
  {
   "cell_type": "markdown",
   "metadata": {
    "id": "sBkXWskeNLA7"
   },
   "source": [
    "### Data"
   ]
  },
  {
   "cell_type": "code",
   "execution_count": null,
   "metadata": {
    "id": "Z0X2Al0w2P3p"
   },
   "outputs": [],
   "source": [
    "#Keeping required columns\n",
    "retarget_df = bid_user_conv.drop(['bid','win','datetime','dow','hod','age','location','gender'],axis=1)"
   ]
  },
  {
   "cell_type": "code",
   "execution_count": null,
   "metadata": {
    "id": "GxiKRLkz2SRD"
   },
   "outputs": [],
   "source": [
    "# Seperating test0 and test 1 data\n",
    "retarget_df_0 = retarget_df[retarget_df['test']==0].sort_values(['user_id','timestamp'])\n",
    "retarget_df_1 = retarget_df[retarget_df['test']==1].sort_values(['user_id','timestamp'])"
   ]
  },
  {
   "cell_type": "markdown",
   "metadata": {
    "id": "s5DnJzxBLqcD"
   },
   "source": [
    "### get_prev_conv helper"
   ]
  },
  {
   "cell_type": "code",
   "execution_count": null,
   "metadata": {
    "id": "JAdw8xKj7msF"
   },
   "outputs": [],
   "source": [
    "def get_previous_convert(retarget_df_0_or_1):\n",
    "  # Calculating cummulative conversion for each user\n",
    "  conversion_cum = retarget_df_0_or_1.groupby(by=['user_id','timestamp'])['conversion'].sum().groupby(level=[0]).cumsum().reset_index().sort_values(['user_id','timestamp']).conversion\n",
    "  retarget_df_0_or_1.reset_index(drop=True,inplace=True)\n",
    "  retarget_df_0_or_1['cumm_conversion'] = conversion_cum\n",
    "  # Creating prev_conv column\n",
    "  retarget_df_0_or_1['prev_conv'] = np.where(retarget_df_0_or_1['cumm_conversion']>0,1,0)\n",
    "  for index,row in retarget_df_0_or_1.iterrows():\n",
    "    if row['conversion']==1 and row['cumm_conversion']==1:\n",
    "      retarget_df_0_or_1.loc[index,'prev_conv']=0\n",
    "  return retarget_df_0_or_1 \n"
   ]
  },
  {
   "cell_type": "markdown",
   "metadata": {
    "id": "PcdE5CtVmAq0"
   },
   "source": [
    "### Adding prev_conv\n",
    "For every request we add a new column called prev_conv which says wheter the user previously converted or not (1 or 0)"
   ]
  },
  {
   "cell_type": "code",
   "execution_count": null,
   "metadata": {
    "id": "1xy5sTPr8SP8"
   },
   "outputs": [],
   "source": [
    "retarget_df_0 = get_previous_convert(retarget_df_0)\n",
    "retarget_df_1 = get_previous_convert(retarget_df_1)"
   ]
  },
  {
   "cell_type": "code",
   "execution_count": null,
   "metadata": {
    "colab": {
     "base_uri": "https://localhost:8080/",
     "height": 254
    },
    "executionInfo": {
     "elapsed": 292,
     "status": "ok",
     "timestamp": 1573799583700,
     "user": {
      "displayName": "Rohith Nagabhyrava",
      "photoUrl": "",
      "userId": "01839053166955948528"
     },
     "user_tz": 300
    },
    "id": "EFLHK9I2wACE",
    "outputId": "6ac80702-508d-46c5-c261-1e4ac2503d2b"
   },
   "outputs": [
    {
     "data": {
      "text/html": [
       "<div>\n",
       "<style scoped>\n",
       "    .dataframe tbody tr th:only-of-type {\n",
       "        vertical-align: middle;\n",
       "    }\n",
       "\n",
       "    .dataframe tbody tr th {\n",
       "        vertical-align: top;\n",
       "    }\n",
       "\n",
       "    .dataframe thead th {\n",
       "        text-align: right;\n",
       "    }\n",
       "</style>\n",
       "<table border=\"1\" class=\"dataframe\">\n",
       "  <thead>\n",
       "    <tr style=\"text-align: right;\">\n",
       "      <th></th>\n",
       "      <th>timestamp</th>\n",
       "      <th>user_id</th>\n",
       "      <th>conversion</th>\n",
       "      <th>test</th>\n",
       "      <th>cumm_conversion</th>\n",
       "      <th>prev_conv</th>\n",
       "    </tr>\n",
       "  </thead>\n",
       "  <tbody>\n",
       "    <tr>\n",
       "      <th>69</th>\n",
       "      <td>2017-01-10 19:53:34</td>\n",
       "      <td>003a8eb4813be2f8c5ad692ff1866162</td>\n",
       "      <td>0</td>\n",
       "      <td>0</td>\n",
       "      <td>0</td>\n",
       "      <td>0</td>\n",
       "    </tr>\n",
       "    <tr>\n",
       "      <th>70</th>\n",
       "      <td>2017-01-07 15:39:09</td>\n",
       "      <td>003ae4e8b9f59b0aa0910ba1f5e35735</td>\n",
       "      <td>1</td>\n",
       "      <td>0</td>\n",
       "      <td>1</td>\n",
       "      <td>0</td>\n",
       "    </tr>\n",
       "    <tr>\n",
       "      <th>71</th>\n",
       "      <td>2017-01-15 20:53:13</td>\n",
       "      <td>003ae4e8b9f59b0aa0910ba1f5e35735</td>\n",
       "      <td>0</td>\n",
       "      <td>0</td>\n",
       "      <td>1</td>\n",
       "      <td>1</td>\n",
       "    </tr>\n",
       "    <tr>\n",
       "      <th>72</th>\n",
       "      <td>2017-01-03 06:08:18</td>\n",
       "      <td>003bed21fddc817050c8fa11897fe660</td>\n",
       "      <td>0</td>\n",
       "      <td>0</td>\n",
       "      <td>0</td>\n",
       "      <td>0</td>\n",
       "    </tr>\n",
       "    <tr>\n",
       "      <th>73</th>\n",
       "      <td>2017-01-12 06:00:33</td>\n",
       "      <td>003bed21fddc817050c8fa11897fe660</td>\n",
       "      <td>0</td>\n",
       "      <td>0</td>\n",
       "      <td>0</td>\n",
       "      <td>0</td>\n",
       "    </tr>\n",
       "    <tr>\n",
       "      <th>74</th>\n",
       "      <td>2017-01-16 09:00:40</td>\n",
       "      <td>003bed21fddc817050c8fa11897fe660</td>\n",
       "      <td>1</td>\n",
       "      <td>0</td>\n",
       "      <td>1</td>\n",
       "      <td>0</td>\n",
       "    </tr>\n",
       "    <tr>\n",
       "      <th>75</th>\n",
       "      <td>2017-01-04 02:24:44</td>\n",
       "      <td>003da94355a506f1f294090c173e7b73</td>\n",
       "      <td>0</td>\n",
       "      <td>0</td>\n",
       "      <td>0</td>\n",
       "      <td>0</td>\n",
       "    </tr>\n",
       "  </tbody>\n",
       "</table>\n",
       "</div>"
      ],
      "text/plain": [
       "              timestamp  ... prev_conv\n",
       "69  2017-01-10 19:53:34  ...         0\n",
       "70  2017-01-07 15:39:09  ...         0\n",
       "71  2017-01-15 20:53:13  ...         1\n",
       "72  2017-01-03 06:08:18  ...         0\n",
       "73  2017-01-12 06:00:33  ...         0\n",
       "74  2017-01-16 09:00:40  ...         0\n",
       "75  2017-01-04 02:24:44  ...         0\n",
       "\n",
       "[7 rows x 6 columns]"
      ]
     },
     "execution_count": 289,
     "metadata": {
      "tags": []
     },
     "output_type": "execute_result"
    }
   ],
   "source": [
    "retarget_df_0[69:76]"
   ]
  },
  {
   "cell_type": "markdown",
   "metadata": {
    "id": "-4GjI7HeEiHv"
   },
   "source": [
    "### Convertion rates of new users and already converted users."
   ]
  },
  {
   "cell_type": "markdown",
   "metadata": {
    "id": "vBmyFPXOmTMg"
   },
   "source": [
    "* New User is someone who has not converted.\n",
    "* Old User is someone who converted at least once before.\n"
   ]
  },
  {
   "cell_type": "code",
   "execution_count": null,
   "metadata": {
    "colab": {
     "base_uri": "https://localhost:8080/",
     "height": 124
    },
    "executionInfo": {
     "elapsed": 347,
     "status": "ok",
     "timestamp": 1573847307894,
     "user": {
      "displayName": "Rohith Nagabhyrava",
      "photoUrl": "",
      "userId": "01839053166955948528"
     },
     "user_tz": 300
    },
    "id": "mv31Rdoj_IKH",
    "outputId": "65e48692-4a78-4211-aa58-0c8938d855c1"
   },
   "outputs": [
    {
     "name": "stdout",
     "output_type": "stream",
     "text": [
      "Test 0\n"
     ]
    },
    {
     "data": {
      "text/html": [
       "<div>\n",
       "<style scoped>\n",
       "    .dataframe tbody tr th:only-of-type {\n",
       "        vertical-align: middle;\n",
       "    }\n",
       "\n",
       "    .dataframe tbody tr th {\n",
       "        vertical-align: top;\n",
       "    }\n",
       "\n",
       "    .dataframe thead th {\n",
       "        text-align: right;\n",
       "    }\n",
       "</style>\n",
       "<table border=\"1\" class=\"dataframe\">\n",
       "  <thead>\n",
       "    <tr style=\"text-align: right;\">\n",
       "      <th></th>\n",
       "      <th>not_converted</th>\n",
       "      <th>converted</th>\n",
       "      <th>conversion_rate</th>\n",
       "    </tr>\n",
       "  </thead>\n",
       "  <tbody>\n",
       "    <tr>\n",
       "      <th>New User</th>\n",
       "      <td>59191</td>\n",
       "      <td>2495</td>\n",
       "      <td>0.040447</td>\n",
       "    </tr>\n",
       "    <tr>\n",
       "      <th>Old User</th>\n",
       "      <td>3650</td>\n",
       "      <td>228</td>\n",
       "      <td>0.058793</td>\n",
       "    </tr>\n",
       "  </tbody>\n",
       "</table>\n",
       "</div>"
      ],
      "text/plain": [
       "          not_converted  converted  conversion_rate\n",
       "New User          59191       2495         0.040447\n",
       "Old User           3650        228         0.058793"
      ]
     },
     "execution_count": 20,
     "metadata": {
      "tags": []
     },
     "output_type": "execute_result"
    }
   ],
   "source": [
    "print(\"Test 0\")\n",
    "x = retarget_df_0.groupby(['prev_conv','conversion'])['conversion'].size().unstack()\n",
    "x[2] = x[1]/(x[0]+x[1])\n",
    "x.columns = ['not_converted','converted','conversion_rate']\n",
    "x.index=[\"New User\",\"Old User\"]\n",
    "x"
   ]
  },
  {
   "cell_type": "code",
   "execution_count": null,
   "metadata": {
    "colab": {
     "base_uri": "https://localhost:8080/",
     "height": 154
    },
    "executionInfo": {
     "elapsed": 366,
     "status": "ok",
     "timestamp": 1573847309727,
     "user": {
      "displayName": "Rohith Nagabhyrava",
      "photoUrl": "",
      "userId": "01839053166955948528"
     },
     "user_tz": 300
    },
    "id": "meCBQ83aLJyn",
    "outputId": "2d46f202-165d-4ce4-aa48-a1df581f4554"
   },
   "outputs": [
    {
     "name": "stdout",
     "output_type": "stream",
     "text": [
      "Test 1\n"
     ]
    },
    {
     "data": {
      "text/html": [
       "<div>\n",
       "<style scoped>\n",
       "    .dataframe tbody tr th:only-of-type {\n",
       "        vertical-align: middle;\n",
       "    }\n",
       "\n",
       "    .dataframe tbody tr th {\n",
       "        vertical-align: top;\n",
       "    }\n",
       "\n",
       "    .dataframe thead th {\n",
       "        text-align: right;\n",
       "    }\n",
       "</style>\n",
       "<table border=\"1\" class=\"dataframe\">\n",
       "  <thead>\n",
       "    <tr style=\"text-align: right;\">\n",
       "      <th></th>\n",
       "      <th>not_converted</th>\n",
       "      <th>converted</th>\n",
       "      <th>conversion_rate</th>\n",
       "    </tr>\n",
       "    <tr>\n",
       "      <th>prev_conv</th>\n",
       "      <th></th>\n",
       "      <th></th>\n",
       "      <th></th>\n",
       "    </tr>\n",
       "  </thead>\n",
       "  <tbody>\n",
       "    <tr>\n",
       "      <th>0</th>\n",
       "      <td>76716</td>\n",
       "      <td>3112</td>\n",
       "      <td>0.038984</td>\n",
       "    </tr>\n",
       "    <tr>\n",
       "      <th>1</th>\n",
       "      <td>4487</td>\n",
       "      <td>280</td>\n",
       "      <td>0.058737</td>\n",
       "    </tr>\n",
       "  </tbody>\n",
       "</table>\n",
       "</div>"
      ],
      "text/plain": [
       "           not_converted  converted  conversion_rate\n",
       "prev_conv                                           \n",
       "0                  76716       3112         0.038984\n",
       "1                   4487        280         0.058737"
      ]
     },
     "execution_count": 21,
     "metadata": {
      "tags": []
     },
     "output_type": "execute_result"
    }
   ],
   "source": [
    "print(\"Test 1\")\n",
    "y = retarget_df_1.groupby(['prev_conv','conversion'])['conversion'].size().unstack()\n",
    "y[2] = y[1]/(y[0]+y[1])\n",
    "y.columns = ['not_converted','converted','conversion_rate']\n",
    "y.columns = ['not_converted','converted','conversion_rate']\n",
    "y"
   ]
  },
  {
   "cell_type": "markdown",
   "metadata": {
    "id": "Tjo7eV3WNg-D"
   },
   "source": [
    "### Statistical Test"
   ]
  },
  {
   "cell_type": "markdown",
   "metadata": {
    "id": "gjkqzU_uE_a_"
   },
   "source": [
    "Should we consider retargeting users that have previously converted?\n",
    "\n",
    "- p0 - Conversion rate of new users\n",
    "- p1 - Conversion rate of already converted users.\n",
    "\n",
    "- **Null Hypothesis**: conversion rate of already converted users less than or equal to new users. (p0 <= p1)\n",
    "- **Alternative Hypothesis**: conversion rate of already converted users is greater than convertion rate of new users. (p0 > p1)"
   ]
  },
  {
   "cell_type": "code",
   "execution_count": null,
   "metadata": {
    "colab": {
     "base_uri": "https://localhost:8080/",
     "height": 87
    },
    "executionInfo": {
     "elapsed": 195,
     "status": "ok",
     "timestamp": 1573847311904,
     "user": {
      "displayName": "Rohith Nagabhyrava",
      "photoUrl": "",
      "userId": "01839053166955948528"
     },
     "user_tz": 300
    },
    "id": "nPhRX03ECZrV",
    "outputId": "2046d443-b46f-49c4-f024-faf2d665adc1"
   },
   "outputs": [
    {
     "name": "stdout",
     "output_type": "stream",
     "text": [
      "Test 0:\n",
      "zscore = -5.554, pvalue between = 1.000\n",
      "Test 1:\n",
      "zscore = -6.753, pvalue between = 1.000\n"
     ]
    }
   ],
   "source": [
    "zscore, pvalue = proportions_ztest(x['converted'], (x['not_converted']+x['converted']), alternative = 'larger')\n",
    "print('Test 0:\\nzscore = {:.3f}, pvalue between = {:.3f}'.format(zscore,pvalue))\n",
    "zscore, pvalue = proportions_ztest(y['converted'], (y['not_converted']+y['converted']), alternative = 'larger')\n",
    "print('Test 1:\\nzscore = {:.3f}, pvalue between = {:.3f}'.format(zscore,pvalue))"
   ]
  },
  {
   "cell_type": "markdown",
   "metadata": {
    "id": "E-5qc02IN4jV"
   },
   "source": [
    "* From the above hypothesis tests we fail to reject the null hypothesis\n",
    "* Which means we failed to prove that conversion rate of new users is better than old users.\n",
    "* So we should consider retargeting users who have previously converted.."
   ]
  },
  {
   "cell_type": "markdown",
   "metadata": {
    "id": "bVjHBojJnkAK"
   },
   "source": [
    "## Next Steps"
   ]
  },
  {
   "cell_type": "markdown",
   "metadata": {
    "id": "pqzi0roonowC"
   },
   "source": [
    "* There are a lot of interesting things to look at when we are working on this kind of data.\n",
    "* So asking the right questions which generate value is very important."
   ]
  },
  {
   "cell_type": "code",
   "execution_count": null,
   "metadata": {
    "executionInfo": {
     "elapsed": 278,
     "status": "ok",
     "timestamp": 1608145458347,
     "user": {
      "displayName": "Rohith Nagabhyrava",
      "photoUrl": "",
      "userId": "01839053166955948528"
     },
     "user_tz": 360
    },
    "id": "JeWNQAPB9kkX"
   },
   "outputs": [],
   "source": []
  }
 ],
 "metadata": {
  "colab": {
   "collapsed_sections": [
    "6DNmYbg7m5V0",
    "f_jpqpyfzrqu",
    "PifCdDZYN5u5",
    "X10x2jq9QhLv",
    "q4dtYcq3QL2d",
    "krGhKUchQ7Co",
    "lWgiymxlUdrv",
    "GfdAEyhxVde_",
    "VQxAl7h-LCIR",
    "KemK4xSKWSA7",
    "RVzGRoAlQ_8J",
    "KsUWDwsBWbIn",
    "cE8OkElTQwxh",
    "Zm6Ol2xWXlhp",
    "70_fN24V2OMa",
    "sBkXWskeNLA7",
    "s5DnJzxBLqcD",
    "PcdE5CtVmAq0",
    "-4GjI7HeEiHv",
    "Tjo7eV3WNg-D"
   ],
   "name": "Valassis_exercise_Rohith_Nagabhyrava.ipynb",
   "provenance": []
  },
  "kernelspec": {
   "display_name": "Python 3",
   "language": "python",
   "name": "python3"
  },
  "language_info": {
   "codemirror_mode": {
    "name": "ipython",
    "version": 3
   },
   "file_extension": ".py",
   "mimetype": "text/x-python",
   "name": "python",
   "nbconvert_exporter": "python",
   "pygments_lexer": "ipython3",
   "version": "3.8.3"
  }
 },
 "nbformat": 4,
 "nbformat_minor": 1
}
